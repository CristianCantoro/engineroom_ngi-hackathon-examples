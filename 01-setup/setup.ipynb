{
 "cells": [
  {
   "cell_type": "markdown",
   "metadata": {},
   "source": [
    "# Setup a Python virtualenv"
   ]
  },
  {
   "cell_type": "markdown",
   "metadata": {},
   "source": [
    "## Create a virtualenv"
   ]
  },
  {
   "cell_type": "markdown",
   "metadata": {},
   "source": [
    "The example shown will work with `python3`. To work in a clean, reproducible environment the best idea is to use `virtualenvs`. Here's a basic stpe-bystep guide to setting up a Python virtualenv (= virtual environment), if you need help with the set-up  you can check the [complete guide](https://docs.python.org/3/library/venv.html) or ask the mentors."
   ]
  },
  {
   "cell_type": "markdown",
   "metadata": {},
   "source": [
    "First, check your Python version (execute the command below in a terminal, withot the `!` at the beginning):"
   ]
  },
  {
   "cell_type": "code",
   "execution_count": 4,
   "metadata": {},
   "outputs": [
    {
     "name": "stdout",
     "output_type": "stream",
     "text": [
      "Python 3.7.0\r\n"
     ]
    }
   ],
   "source": [
    "! python --version"
   ]
  },
  {
   "cell_type": "markdown",
   "metadata": {},
   "source": [
    "(you should have Python version > 3.3.0)"
   ]
  },
  {
   "cell_type": "markdown",
   "metadata": {},
   "source": [
    "Create a virtual environment inside the folder `venvs`:"
   ]
  },
  {
   "cell_type": "markdown",
   "metadata": {},
   "source": [
    "`python3 -m virtualenv venvs/ngi-datasprint`"
   ]
  },
  {
   "cell_type": "markdown",
   "metadata": {},
   "source": [
    "This will create a folder `ngi-datasprint` containing the virtualenv files as a subfolder of `venvs`. Then, you need to `activate` the virtualenv, i.e. to tell to your system that you want to use the python environment provided by the virtualenv."
   ]
  },
  {
   "cell_type": "markdown",
   "metadata": {},
   "source": [
    "`source venvs/ngi-datasprint/bin/activate`"
   ]
  },
  {
   "cell_type": "markdown",
   "metadata": {},
   "source": [
    "you will see that your prompt changes from:"
   ]
  },
  {
   "cell_type": "markdown",
   "metadata": {},
   "source": [
    "`user@host:~/dir $`"
   ]
  },
  {
   "cell_type": "markdown",
   "metadata": {},
   "source": [
    "to:"
   ]
  },
  {
   "cell_type": "markdown",
   "metadata": {},
   "source": [
    "`(ngi-datasprint)user@host:~/dir $`"
   ]
  },
  {
   "cell_type": "markdown",
   "metadata": {},
   "source": [
    "Now, you are using a virtualenv."
   ]
  },
  {
   "cell_type": "markdown",
   "metadata": {},
   "source": [
    "## Install jupyter"
   ]
  },
  {
   "cell_type": "markdown",
   "metadata": {},
   "source": [
    "To install `jupyter` (the software providing the notebook functionality) do:"
   ]
  },
  {
   "cell_type": "markdown",
   "metadata": {},
   "source": [
    "`$ pip install jupyter`"
   ]
  },
  {
   "cell_type": "markdown",
   "metadata": {},
   "source": [
    "to launch a notebook:"
   ]
  },
  {
   "cell_type": "markdown",
   "metadata": {},
   "source": [
    "`$ jupyter notebook`"
   ]
  },
  {
   "cell_type": "markdown",
   "metadata": {},
   "source": [
    "You will see severak messages being printed like:\n",
    "```\n",
    "[I 17:52:22.904 NotebookApp] Writing notebook server cookie secret to /run/user/1000/jupyter/notebook_cookie_secret\n",
    "[I 17:52:23.065 NotebookApp] Serving notebooks from local directory: /home/cristian/Dottorato/Works/ngi/engineroom_ngi-hackathon-examples\n",
    "[I 17:52:23.065 NotebookApp] The Jupyter Notebook is running at:\n",
    "[I 17:52:23.065 NotebookApp] http://localhost:8888/?token=4741f4abef1992fda1f318f01afca57624bcd538ef4b51b2\n",
    "[I 17:52:23.065 NotebookApp] Use Control-C to stop this server and shut down all kernels (twice to skip confirmation).\n",
    "[C 17:52:23.109 NotebookApp] \n",
    "    \n",
    "    Copy/paste this URL into your browser when you connect for the first time,\n",
    "    to login with a token:\n",
    "        http://localhost:8888/?token=4741f4abef1992fda1f318f01afca57624bcd538ef4b51b2\n",
    "```"
   ]
  },
  {
   "cell_type": "markdown",
   "metadata": {},
   "source": [
    "You can visit the address `http://localhost:8888` with your browser to work with your new notebook."
   ]
  },
  {
   "cell_type": "code",
   "execution_count": null,
   "metadata": {},
   "outputs": [],
   "source": []
  }
 ],
 "metadata": {
  "kernelspec": {
   "display_name": "Python 3",
   "language": "python",
   "name": "python3"
  },
  "language_info": {
   "codemirror_mode": {
    "name": "ipython",
    "version": 3
   },
   "file_extension": ".py",
   "mimetype": "text/x-python",
   "name": "python",
   "nbconvert_exporter": "python",
   "pygments_lexer": "ipython3",
   "version": "3.7.0"
  }
 },
 "nbformat": 4,
 "nbformat_minor": 2
}

{
 "cells": [
  {
   "cell_type": "markdown",
   "metadata": {},
   "source": [
    "# Extract a network of pages from Wikipedia"
   ]
  },
  {
   "cell_type": "markdown",
   "metadata": {},
   "source": [
    "In the following example we query MediaWiki's [API](https://www.mediawiki.org/wiki/API:Main_page) to build a network starting from a list of \"seed\" pages."
   ]
  },
  {
   "cell_type": "code",
   "execution_count": 17,
   "metadata": {},
   "outputs": [],
   "source": [
    "# the wikipedia edition we will work ok {lang}.wikipedia.org\n",
    "lang = 'en'"
   ]
  },
  {
   "cell_type": "markdown",
   "metadata": {},
   "source": [
    "Some options to regulate the verbosity of the output, ignore them for the moment."
   ]
  },
  {
   "cell_type": "code",
   "execution_count": 18,
   "metadata": {},
   "outputs": [],
   "source": [
    "verbose = True\n",
    "very_verbose = True\n",
    "is_new_page = False"
   ]
  },
  {
   "cell_type": "markdown",
   "metadata": {},
   "source": [
    "Our list of seed articles is containe in `privacy_seed_keywords.txt` in the current directory.\n",
    "We can look at it with `cat`."
   ]
  },
  {
   "cell_type": "code",
   "execution_count": 19,
   "metadata": {},
   "outputs": [
    {
     "name": "stdout",
     "output_type": "stream",
     "text": [
      "cat: privacy_seed_keywords.txt: No such file or directory\r\n"
     ]
    }
   ],
   "source": [
    "! cat privacy_seed_keywords.txt"
   ]
  },
  {
   "cell_type": "code",
   "execution_count": 20,
   "metadata": {},
   "outputs": [],
   "source": [
    "import os\n",
    "import pathlib\n",
    "\n",
    "# the seed file is ./privacy_seed_keywords.txt\n",
    "seed_file = pathlib.Path('./privacy_seed.txt')\n",
    "\n",
    "# get the seed file without extension\n",
    "seed_filename_noext = os.path.splitext(seed_file.name)[0]"
   ]
  },
  {
   "cell_type": "markdown",
   "metadata": {},
   "source": [
    "We now set up the directory structure where we will save the results from the API, it will look like this:\n",
    "```\n",
    "data\n",
    "├── links\n",
    "│   ├── articles.txt\n",
    "│   └── ...\n",
    "└── results\n",
    "    ├── extract_network.log\n",
    "    ├── <seed_name>.csv\n",
    "    └── network_<seed_name>.csv\n",
    "```"
   ]
  },
  {
   "cell_type": "code",
   "execution_count": 21,
   "metadata": {},
   "outputs": [],
   "source": [
    "# directory containing the seed articles (./data)\n",
    "data_folder = pathlib.Path('data')\n",
    "# directory containing the outlinks of each article (./data/links)\n",
    "link_folder = data_folder/'links'\n",
    "# directory containing the resulting networks (./data/results)\n",
    "results_folder = data_folder/'results'\n",
    "\n",
    "os.makedirs(link_folder, exist_ok=True)\n",
    "os.makedirs(results_folder, exist_ok=True)"
   ]
  },
  {
   "cell_type": "code",
   "execution_count": 22,
   "metadata": {},
   "outputs": [],
   "source": [
    "# open the log file ./data/results/extract_network.log\n",
    "log_filename = 'extract_network.log'\n",
    "log_file = (results_folder/log_filename).open('a')\n",
    "\n",
    "# otpen the file containing the network ./data/results/<seed>.csv\n",
    "net_filename = 'network_' + seed_filename_noext + '.csv'\n",
    "net_file = (results_folder/net_filename).open('w')"
   ]
  },
  {
   "cell_type": "markdown",
   "metadata": {},
   "source": [
    "We read our seed file in a dictionary, ignoring empty lines and comments (lines starting with #)"
   ]
  },
  {
   "cell_type": "code",
   "execution_count": 23,
   "metadata": {},
   "outputs": [],
   "source": [
    "def load_seed(file_name):\n",
    "    \"\"\"\n",
    "    Load the seed file, ignoring empty lines and comments (lines starting with #)\n",
    "    \"\"\"\n",
    "    dic = {}\n",
    "    infile = pathlib.Path(file_name).open('r')\n",
    "    for line in infile:\n",
    "        el = line.strip('\\n')\n",
    "        if el and el[0] != '#':\n",
    "            el = el.replace(' ', '_')\n",
    "            dic[el] = 1\n",
    "    return dic"
   ]
  },
  {
   "cell_type": "code",
   "execution_count": 24,
   "metadata": {},
   "outputs": [
    {
     "data": {
      "text/plain": [
       "{'Internet_privacy': 1,\n",
       " 'Internet_security': 1,\n",
       " 'General_Data_Protection_Regulation': 1,\n",
       " 'Right_to_be_forgotten': 1}"
      ]
     },
     "execution_count": 24,
     "metadata": {},
     "output_type": "execute_result"
    }
   ],
   "source": [
    "load_seed(seed_file)"
   ]
  },
  {
   "cell_type": "code",
   "execution_count": 25,
   "metadata": {},
   "outputs": [],
   "source": [
    "from wikitools import wiki\n",
    "from wikitools import api\n",
    "\n",
    "# create a Wiki object\n",
    "site = wiki.Wiki(\"https://{lang}.wikipedia.org/w/api.php\".format(lang=lang))\n",
    "\n",
    "# get outlinks of a wikipedia article through wiki api\n",
    "def get_outlinks_from_api(title):\n",
    "    p_id = -1\n",
    "    outlinks = []\n",
    "\n",
    "    if title == '' or title == ' ':\n",
    "        return p_id, outlinks\n",
    "\n",
    "    params = {'action':'query',\n",
    "              'prop':'revisions',\n",
    "              'titles': title,\n",
    "              'rvprop':'content',\n",
    "              'redirects':1\n",
    "              }\n",
    "    request = api.APIRequest(site, params)\n",
    "\n",
    "    if very_verbose:\n",
    "        print('    ' + 'query: ' + str(params))\n",
    "\n",
    "    result = request.query()\n",
    "    if int(list(result['query']['pages'].keys())[0]) < 1:\n",
    "        print('ARTICLE NOT FOUND: {}'.format(title))\n",
    "        log.write('{}\\n'.format(title))\n",
    "        return (p_id, outlinks)\n",
    "\n",
    "    else:\n",
    "        outlinks = []\n",
    "        p_id = list(result['query']['pages'].keys())[0]\n",
    "        rev = result['query']['pages'][p_id]['revisions'][0]\n",
    "        content = rev['*']\n",
    "        links = parse_text(content)\n",
    "        for l in links:\n",
    "            target = l.replace(' ', '_')\n",
    "            outlinks.append(target)\n",
    "        return (p_id, outlinks)\n"
   ]
  },
  {
   "cell_type": "code",
   "execution_count": 26,
   "metadata": {},
   "outputs": [],
   "source": [
    "def get_outlinks(title):\n",
    "    outlinks_filename = '{}_articles.txt'.format(title.replace('/','.'))\n",
    "    outlinks_saved = link_folder/outlinks_filename\n",
    "\n",
    "    # data saved in the disc\n",
    "    is_new_page = False\n",
    "    try:\n",
    "        with outlinks_saved.open('a') as f:\n",
    "            outlinks_checked = f.read().splitlines()\n",
    "    except IOError as e:\n",
    "        outlinks_checked = []\n",
    "        \n",
    "    if outlinks_checked:\n",
    "        if verbose:\n",
    "            print('{} saved links from: {}'.format(len(outlinks_checked), title))\n",
    "\n",
    "    if not outlinks_checked:\n",
    "        # get data through wiki API\n",
    "        is_new_page = True\n",
    "\n",
    "        print('title: {}'.format(title))\n",
    "        # p is the page_id\n",
    "        (p, outlinks) = get_outlinks_from_api(title)\n",
    "        \n",
    "        (redirects, outlinks_checked) = check_redirects(outlinks)\n",
    "\n",
    "    return (is_new_page,outlinks_checked)"
   ]
  },
  {
   "cell_type": "code",
   "execution_count": 27,
   "metadata": {},
   "outputs": [],
   "source": [
    "def split_param_list(alist):\n",
    "    chunk_len = 50\n",
    "    if len(alist) < 1:\n",
    "        return ''\n",
    "    s = ['']\n",
    "    l = 0\n",
    "    i = 0\n",
    "\n",
    "    chunks = [alist[x:x+chunk_len]\n",
    "              for x in range(0, len(alist), chunk_len)\n",
    "              ]\n",
    "\n",
    "    return chunks"
   ]
  },
  {
   "cell_type": "code",
   "execution_count": 28,
   "metadata": {},
   "outputs": [],
   "source": [
    "# Check redirect in Wikipedia articles/links\n",
    "def check_redirects(titles):\n",
    "\n",
    "    redirects = {}\n",
    "    links = {}\n",
    "    duplicates = 0\n",
    "\n",
    "    title_lists = split_param_list(titles)\n",
    "    for title_list in title_lists:\n",
    "\n",
    "        params = {'action':'query', 'titles':title_list, 'redirects':1} #, 'pllimit': 500, 'redirects':1}\n",
    "        request = api.APIRequest(site, params)\n",
    "        if very_verbose: print ('   ' + 'query: ' + str(params))\n",
    "        result = request.query()\n",
    "\n",
    "        if very_verbose: print(result)\n",
    "\n",
    "        if 'redirects' in result['query']:\n",
    "            for redir in result['query']['redirects']:\n",
    "                redirects[redir['from']] = redir['to']\n",
    "\n",
    "        for page in result['query']['pages']:\n",
    "            if page != '-1' and 'ns' in result['query']['pages'][page]:\n",
    "                if result['query']['pages'][page]['ns'] == 0:\n",
    "                    link = result['query']['pages'][page]['title'].replace(' ', '_')\n",
    "                    if link in links:\n",
    "                        duplicates += 1\n",
    "                    links[link] = page\n",
    "\n",
    "    missing = len(titles) - (len(links) + duplicates)\n",
    "    if very_verbose and missing != 0:\n",
    "        print('%d missing redirects (%d titles,  %d found, %d duplicates)' %(missing, len(titles), len(links), duplicates))\n",
    "    return redirects,links"
   ]
  },
  {
   "cell_type": "code",
   "execution_count": 29,
   "metadata": {},
   "outputs": [],
   "source": [
    "import re\n",
    "\n",
    "# Regular expressions to find URLs in text\n",
    "linkSimpleP = re.compile(r'\\[\\[(.+?)[][|{}/#]')\n",
    "linkGreedyP = re.compile(r'\\[\\[([^]^[^}^{^#^/^|]+)')\n",
    "linkP = re.compile(r'\\[\\[([^]^[^}^{^#^/^]+?)\\s*(?:/[^]^[]*?)?\\s*(?:\\|[^]^[]*?)?(?:\\}\\})?\\s*\\]\\]')\n",
    "\n",
    "def parse_text(content):\n",
    "    links = {}\n",
    "    rough_links = re.findall(linkP, content) #get all links\n",
    "\n",
    "    title_lists = split_param_list(rough_links)\n",
    "\n",
    "    for title_list in title_lists:\n",
    "\n",
    "        params = {'action': 'query',\n",
    "                  'titles': title_list,\n",
    "                  'redirects': 1\n",
    "                  }\n",
    "        request = api.APIRequest(site, params)\n",
    "        \n",
    "        if very_verbose:\n",
    "            print ('   ' + 'query: ' + str(params))\n",
    "    \n",
    "        result = request.query()\n",
    "\n",
    "        if very_verbose:\n",
    "            print ('   ' + 'result: ' + str(result))\n",
    "\n",
    "        # check that we have received pages as result\n",
    "        if result['query'].get('pages', None):\n",
    "            for page in result['query']['pages']:\n",
    "                if page != '-1' and ('ns' in result['query']['pages'][page]):\n",
    "                    # Filter just useful links, articles are in ns == 0\n",
    "                    if result['query']['pages'][page]['ns'] == 0:\n",
    "                        link = result['query']['pages'][page]['title']\n",
    "                        links[link] = 1\n",
    "\n",
    "    return links"
   ]
  },
  {
   "cell_type": "code",
   "execution_count": 30,
   "metadata": {},
   "outputs": [],
   "source": [
    "import itertools\n",
    "import csv\n",
    "\n",
    "csv_fields = [\n",
    "'seed', \n",
    "'links_from_seed',\n",
    "'links_to_seed',\n",
    "'in_degree',\n",
    "'out_degree',\n",
    "'out_WP'\n",
    "]\n",
    "\n",
    "def extract_network(seed_file):\n",
    "\n",
    "    # list containing all outlinks of seed pages\n",
    "    links_to_seedlinks = []\n",
    "\n",
    "    # read the list of seed defined by the user\n",
    "    seeds_list = load_seed(seed_file)\n",
    "\n",
    "    first_step = {}\n",
    "\n",
    "    for seed in set(seeds_list.keys()):\n",
    "        print(\"--> new seed article: {}\\n\".format(seed))\n",
    "\n",
    "        (is_new_page, outlinks_checked) = get_outlinks(seed) # get outlink for current seed\n",
    "        links_to_seedlinks.append(outlinks_checked) # append this outlinks to the list of all seeds' outlinks\n",
    "\n",
    "        if is_new_page: ## data not already saved in disk, save it\n",
    "            page_list_filename = seed.replace('/','.') + '_articles.txt'\n",
    "            page_list_file = (link_folder/page_list_filename).open('a+')\n",
    "\n",
    "            ##########\n",
    "            # update degrees for seed and current target outlink\n",
    "            ##########\n",
    "            if seed in first_step.keys():\n",
    "                first_step[seed]['out_WP'] = len(outlinks_checked)\n",
    "\n",
    "        for target in outlinks_checked: # outlinks_checked contains the outlinks of the current keyword\n",
    "            if seed != target:\n",
    "                # write edge as pair of nodes (source, target)\n",
    "                net_file.write(seed + '\\t' + target  + '\\n')\n",
    "                if is_new_page:\n",
    "                    page_list_file.write(target + '\\n')\n",
    "                try:\n",
    "                    first_step[seed]['out_degree'] += 1\n",
    "                    if(target in seeds_list):\n",
    "                        first_step[seed]['links_to_seed'] += 1\n",
    "                except:\n",
    "                    if(target in seeds_list):\n",
    "                        first_step[seed] = {'seed': True,\n",
    "                                            'links_from_seed': 0,\n",
    "                                            'links_to_seed': 1,\n",
    "                                            'in_degree': 0,\n",
    "                                            'out_degree': 1,\n",
    "                                            'out_WP': len(outlinks_checked)\n",
    "                                            }\n",
    "                    else:\n",
    "                        first_step[seed] = {'seed': True,\n",
    "                                            'links_from_seed': 0,\n",
    "                                            'links_to_seed': 0,\n",
    "                                            'in_degree': 0,\n",
    "                                            'out_degree': 1,\n",
    "                                            'out_WP': len(outlinks_checked)\n",
    "                                            }\n",
    "                try:\n",
    "                    first_step[target]['links_from_seed'] += 1\n",
    "                    first_step[target]['in_degree'] += 1\n",
    "                    if(target in seeds_list):\n",
    "                        first_step[target]['seed'] = True\n",
    "                except:\n",
    "                    if(target in seeds_list):\n",
    "                        first_step[target] = {'seed': True,\n",
    "                                              'links_from_seed': 1,\n",
    "                                              'links_to_seed': 0,\n",
    "                                              'in_degree': 1,\n",
    "                                              'out_degree': 0,\n",
    "                                              'out_WP': 0\n",
    "                                              }\n",
    "                    else:\n",
    "                        first_step[target] = {'seed': False,\n",
    "                                              'links_from_seed': 1,\n",
    "                                              'links_to_seed': 0,\n",
    "                                              'in_degree': 1,\n",
    "                                              'out_degree': 0,\n",
    "                                              'out_WP': 0\n",
    "                                              }\n",
    "\n",
    "        if is_new_page:\n",
    "            page_list_file.close()\n",
    "\n",
    "    # from the list of outlinks keep only those that are no seeds and remove duplicates\n",
    "    links_to_seedlinks = list(itertools.chain.from_iterable(links_to_seedlinks))\n",
    "    links_to_seedlinks = list(set(links_to_seedlinks) - set(seeds_list.keys()) )\n",
    "\n",
    "    ##########\n",
    "    # Start new iteraction over outlinks of the seed articles\n",
    "    ##########\n",
    "    olink_index = 1 #just a counter\n",
    "    for title in links_to_seedlinks:\n",
    "        print(\"\\n\\n outlink \" + str(olink_index) + \" of: \" + str(len(links_to_seedlinks)) + \"\\n\\n\")\n",
    "        olink_index += 1\n",
    "        (is_new_page, outlinks_checked) = get_outlinks(title) # get outlinks of current articles\n",
    "\n",
    "        if is_new_page: ## data not already saved in disk, save it\n",
    "            page_list_file_title_name = title.replace('/','.') + '_articles.txt'\n",
    "            page_list_file_title = (link_folder/page_list_file_title_name).open('w')\n",
    "\n",
    "            ##########\n",
    "            # update degress of source and target\n",
    "            ##########\n",
    "            first_step[title]['out_WP'] = len(outlinks_checked)\n",
    "        for target in outlinks_checked: # outlinks_checked contains the outlinks of the current keyword\n",
    "            if is_new_page:\n",
    "                page_list_file_title.write(target + '\\n')\n",
    "            if target in seeds_list.keys( ) and target != title:\n",
    "                net_file.write( title + '\\t' + target  + '\\n') # write edge as pair of nodes\n",
    "                first_step[title]['links_to_seed'] += 1\n",
    "                first_step[title]['out_degree'] += 1\n",
    "                first_step[target]['in_degree'] += 1\n",
    "            else:\n",
    "                if target in links_to_seedlinks and target != title:\n",
    "                    net_file.write( title + '\\t' + target  + '\\n') # write edge as pair of nodes\n",
    "                    first_step[title]['out_degree'] += 1\n",
    "                    first_step[target]['in_degree'] += 1\n",
    "        # note that I write inside each if because I write only if the target is either a seed or a outlink of a seed (since we\n",
    "        # only want the first step degree net)\n",
    "        ##########\n",
    "        ##########\n",
    "        if is_new_page:\n",
    "            page_list_file_title.close()\n",
    "\n",
    "    net_file.close()\n",
    "    # Write degrees in a file\n",
    "    output_filename = 'first_step_degrees_{}.csv'.format(seed_filename_noext)\n",
    "    with (results_folder/output_filename).open('w') as outfile:\n",
    "        writer = csv.writer(outfile, delimiter =\"\\t\")\n",
    "        writer.writerow(['Page'] + csv_fields)\n",
    "        for page in first_step.keys():\n",
    "            writer.writerow([page] + [first_step[page][degree] for degree in csv_fields])\n"
   ]
  },
  {
   "cell_type": "code",
   "execution_count": 31,
   "metadata": {},
   "outputs": [
    {
     "name": "stdout",
     "output_type": "stream",
     "text": [
      "--> new seed article: Right_to_be_forgotten\n",
      "\n",
      "title: Right_to_be_forgotten\n",
      "    query: {'action': 'query', 'prop': 'revisions', 'titles': 'Right_to_be_forgotten', 'rvprop': 'content', 'redirects': 1}\n",
      "   query: {'action': 'query', 'titles': ['European Union', 'Argentina', 'stigmatize', 'human rights', 'freedom of expression', 'right to privacy', 'Internet', 'censorship', 'historical revisionism (negationism)', 'revenge porn', 'search engine', 'Rehabilitation of Offenders Act 1974', 'First Amendment to the United States Constitution', 'Google v González', 'European Union', 'Data Protection Directive', 'human rights law', 'General Data Protection Regulation', 'revenge porn', 'right to privacy', 'jurisdiction', 'European Commission', 'General Data Protection Regulation', 'Google', 'Data Protection Directive', 'YouTube', 'Google Groups', 'Twitter', 'European Court of Justice', 'Google', 'Google v González', 'Spanish Agency of data protection', 'Audiencia Nacional (Spain)', 'European Court of Justice', 'New York Times', 'Wolfgang Werlé', 'Walter Sedlmayr', 'Wikimedia Foundation', 'cease and desist', 'Wikipedia', 'Walter Sedlmayr', 'Federal Constitutional Court', 'New York Times', 'Wired News', 'Wired News', 'Electronic Frontier Foundation', 'The Register', 'Freedom of speech in the United States', 'Freedom of the press in the United States', 'Jennifer Granick'], 'redirects': 1}\n",
      "   result: {'batchcomplete': '', 'query': {'pages': {'3725273': {'pageid': 3725273, 'ns': 0, 'title': 'Jennifer Granick'}}}}\n",
      "   query: {'action': 'query', 'titles': ['Electronic Frontier Foundation', 'Hamburg', 'The New York Times', 'Wikimedia Foundation', ':de:Walter Sedlmayr', 'The Guardian', 'Streisand effect', 'The Guardian', 'Federal Court of Justice of Germany', 'Karlsruhe', 'Deutschlandradio', 'Deutschlandradio', 'Süddeutsche Zeitung', 'celebrities', 'Google', 'Yahoo!', 'Virginia da Cunha', 'The Red Kimono', 'William James Sidis', 'child prodigy', 'The New Yorker', 'freedom of speech', 'censorship', 'United States Constitution', 'The Atlantic', 'Intelligence Squared', 'Consumer Watchdog', 'State of New York', 'Tony Avella', 'David Weprin', 'Delhi High Court', 'Karnataka High Court', 'Korea Communications Commission', 'Baidu', 'Westphalian sovereignty', 'International Safe Harbor Privacy Principles', 'digital privacy', 'European_Court_of_Justice', 'Max Schrems', 'EU-US_Privacy_Shield', 'European Parliament', 'Google Spain v AEPD and Mario Costeja González', 'The Guardian', 'European Commission', 'Stanford Law Review', 'Duke Law Journal', 'The Guardian', 'First Amendment to the United States Constitution', 'freedom of speech', 'Yale Law Journal'], 'redirects': 1}\n",
      "   result: {'batchcomplete': '', 'query': {'pages': {'1674801': {'pageid': 1674801, 'ns': 0, 'title': 'Yale Law Journal'}}}}\n",
      "   query: {'action': 'query', 'titles': ['censorship', 'Open Society Justice Initiative', 'business intelligence', 'due diligence', 'know your customer', 'Dato Capital', 'Fortune (magazine)', 'accountability', 'Financial Times', 'Google', 'integrity', 'Viviane Reding', \"Stan O'Neal\", 'Robert Peston', 'Larry Page', 'Dejan Lazic', 'The Washington Post', ':pl:Parafia św. Wawrzyńca w Kutnie', 'Index on Censorship', 'Gerry Hutch', 'English Wikipedia', 'Wikipedia', 'search engine', 'European Union', 'The Daily Telegraph', 'The Daily Telegraph', 'Jimmy Wales', 'memory hole', 'revenge porn', 'University of Cambridge', 'Wikimedia Foundation', 'United Kingdom general election, 2017', 'Conservative Party (UK)', 'European Court of Justice', 'Theresa May', 'Conservative Party (UK)', \"Commission nationale de l'informatique et des libertés\", 'Google', 'File:Oblivion Framework Architecture new.png', 'Accountability', 'Article 29 Working Party', 'Fundamental rights', 'Google Spain v AEPD and Mario Costeja González', 'Information privacy', 'International human rights law', 'Internet privacy', 'Martin v. Hearst Corporation', 'Memory hole', 'Right to disconnect', 'Streisand effect'], 'redirects': 1}\n",
      "   result: {'batchcomplete': '', 'query': {'pages': {'20598752': {'pageid': 20598752, 'ns': 0, 'title': 'Streisand effect'}}}}\n",
      "   query: {'action': 'query', 'titles': ['Tiziana Cantone', 'Google Spain v AEPD and Mario Costeja González', 'Category:Human rights', 'Category:Internet and the European Union', 'Category:Internet privacy', 'Category:Freedom of expression', 'Category:Privacy controversies and disputes'], 'redirects': 1}\n",
      "   result: {'batchcomplete': '', 'query': {'pages': {'39072007': {'pageid': 39072007, 'ns': 14, 'title': 'Category:Privacy controversies and disputes'}}}}\n",
      "   query: {'action': 'query', 'titles': ['Jennifer_Granick', 'Yale_Law_Journal', 'Streisand_effect'], 'redirects': 1}\n",
      "{'batchcomplete': '', 'query': {'normalized': [{'from': 'Streisand_effect', 'to': 'Streisand effect'}], 'pages': {'20598752': {'pageid': 20598752, 'ns': 0, 'title': 'Streisand effect'}}}}\n",
      "2 missing redirects (3 titles,  1 found, 0 duplicates)\n",
      "--> new seed article: Internet_security\n",
      "\n",
      "title: Internet_security\n",
      "    query: {'action': 'query', 'prop': 'revisions', 'titles': 'Internet_security', 'rvprop': 'content', 'redirects': 1}\n",
      "   query: {'action': 'query', 'titles': ['computer security', 'Internet', 'browser security', 'network security', 'Application software', 'operating systems', 'insecure channel', 'Hacker (computer security)', 'phishing', 'John Wiley & Sons', 'Computer virus', 'Trojan horse (computing)', 'Computer worm', 'encryption', 'spyware', 'Malware', 'botnet', 'zombie computer', 'Computer Viruses', 'Computer worms', 'Ransomware (malware)', 'Scareware', 'Spyware', 'Keystroke logging', 'Keyboard (computing)', 'Trojan horse (computing)', 'denial-of-service attack', 'Internet', 'Website', 'Web service', 'email spoofing', 'subdomain', 'RSA Insurance Group', 'memory safety', 'TCP', 'Cryptographic protocol', 'Secure Sockets Layer', 'Transport Layer Security', 'web traffic', 'Pretty Good Privacy', 'IPsec', 'TCP', 'Internet Engineering Task Force', 'Internet Protocol', 'Internet key exchange', 'authentication', 'User (computing)', 'authentication', 'security token', 'Email'], 'redirects': 1}\n",
      "   result: {'batchcomplete': '', 'query': {'pages': {'9738': {'pageid': 9738, 'ns': 0, 'title': 'Email'}}}}\n",
      "   query: {'action': 'query', 'titles': ['mail user agent', 'mail transfer agent', 'Domain Name System', 'Pretty Good Privacy', 'Triple DES', 'CAST-128', 'virtual private network', 'MIME', 'ASCII', 'Simple Mail Transfer Protocol', 'Simple Mail Transfer Protocol', 'Message authentication code', 'Key (cryptography)', 'data integrity', 'Message authentication', 'firewall (computing)', 'Hypertext Transfer Protocol', 'Network packet', 'choke points', 'firewall (computing)', 'screening router', 'stateful firewall', 'circuit-level gateway', 'proxy server', 'OSI model', 'Network packet', 'Port (computer networking)', 'algorithm', 'Network Address Translation', 'application-level firewall', 'proxy server', 'Internet protocol suite', 'Internet Explorer', 'Firefox', 'Google Chrome', 'Antivirus software', 'password manager', 'McAfee', 'Firewall (computing)', 'Antivirus software', 'Anti spyware', 'Anti-spam techniques', 'Comparison of antivirus software', 'Comparison of firewalls', 'Cyberspace Electronic Security Act', 'Firewalls and Internet Security', 'Goatse Security', 'Internet Crime Complaint Center', 'Identity Driven Networking', 'Internet safety'], 'redirects': 1}\n",
      "   result: {'batchcomplete': '', 'query': {'pages': {'8223796': {'pageid': 8223796, 'ns': 0, 'title': 'Internet safety'}}}}\n",
      "   query: {'action': 'query', 'titles': ['Network security policy', 'Usability of web authentication systems', 'Web literacy', 'FBI', 'Category:Web security exploits', 'Category:Internet security'], 'redirects': 1}\n",
      "   result: {'batchcomplete': '', 'query': {'pages': {'38943006': {'pageid': 38943006, 'ns': 14, 'title': 'Category:Internet security'}}}}\n",
      "   query: {'action': 'query', 'titles': ['Email', 'Internet_safety'], 'redirects': 1}\n",
      "{'batchcomplete': '', 'query': {'normalized': [{'from': 'Internet_safety', 'to': 'Internet safety'}], 'pages': {'8223796': {'pageid': 8223796, 'ns': 0, 'title': 'Internet safety'}}}}\n",
      "1 missing redirects (2 titles,  1 found, 0 duplicates)\n",
      "--> new seed article: General_Data_Protection_Regulation\n",
      "\n",
      "title: General_Data_Protection_Regulation\n",
      "    query: {'action': 'query', 'prop': 'revisions', 'titles': 'General_Data_Protection_Regulation', 'rvprop': 'content', 'redirects': 1}\n"
     ]
    },
    {
     "name": "stdout",
     "output_type": "stream",
     "text": [
      "   query: {'action': 'query', 'titles': ['European Parliament', 'Council of the European Union', 'Data Protection Directive', 'regulation (European Union)', 'EU law', 'data protection', 'European Union', 'European Economic Area', 'international business', 'Data Protection Directive', 'personal data', 'pseudonymization', 'Data anonymization', 'consent', 'Data portability', 'data breach', 'directive (European Union)', 'Cloud computing', 'European Commission', 'Social networking service', 'IP address', 'mutual legal assistance treaty', 'one-stop shop', 'European Data Protection Board', 'Article 29 Data Protection Working Party', 'Charter of Fundamental Rights of the European Union', 'pseudonymization', 'privacy policy', 'algorithm', 'Data portability', 'algorithm', 'national data protection authority', 'European Union Agency for Network and Information Security', 'pseudonymisation', 'data anonymisation', 'Encryption software', 'Encryption', 'tokenization (data security)', 'data at rest', 'Siri', 'device fingerprint', 'data portability', 'right to be forgotten', 'European Parliament', 'Google Spain v AEPD and Mario Costeja González', 'data security', 'Attack (computing)', 'business continuity', 'B2C', 'Business-to-business'], 'redirects': 1}\n",
      "   result: {'batchcomplete': '', 'query': {'pages': {'1678261': {'pageid': 1678261, 'ns': 0, 'title': 'Business-to-business'}}}}\n",
      "   query: {'action': 'query', 'titles': ['privacy law', 'European Union competition law', 'Baker & McKenzie', 'startup companies', 'Facebook', 'Google', 'pseudonymization', 'blockchain', 'right to explanation', 'Mark Zuckerberg', 'The European Consumer Organisation', 'Edward Snowden', 'Richard Stallman', 'Phishing', 'Brussels effect', 'internet meme', 'Ouija', 'Star Wars opening crawl', 'Santa Claus', 'BBC Radio 4', 'Shipping Forecast', 'Instapaper', 'Tronc', 'Chicago Tribune', 'Los Angeles Times', 'National Public Radio', 'USA Today', 'Klout', 'behavioural advertising', 'Digiday', 'WhatsApp', 'Instagram', 'Google LLC', 'Android (operating system)', 'Max Schrems', 'NOYB – European Center for Digital Rights', 'California', 'European Parliament Committee on Civil Liberties, Justice and Home Affairs', 'European Parliament', 'Council of the European Union', 'European Commission', 'Formal Trilogue meeting', 'government gazette', 'Official Journal of the European Union', 'European Economic Area', 'Iceland', 'Liechtenstein', 'Norway', 'EEA Joint Committee', 'digital economy'], 'redirects': 1}\n",
      "   result: {'batchcomplete': '', 'query': {'normalized': [{'from': 'digital economy', 'to': 'Digital economy'}], 'pages': {'9613511': {'pageid': 9613511, 'ns': 0, 'title': 'Digital economy'}}}}\n",
      "   query: {'action': 'query', 'titles': ['NIS Directive', 'ePrivacy Regulation (European Union)', 'eIDAS', 'United Kingdom', 'Brexit', 'royal assent', 'Data Protection Act 2018', 'European Commission', 'Cybercrime Convention', 'ePrivacy Regulation (European Union)', \"Information Commissioner's Office\", 'EUR-Lex', 'EUR-Lex', 'Category:Privacy law', 'Category:Information privacy', 'Category:European Union regulations', 'Category:Data laws', 'Category:Data protection', 'Category:2016 establishments in Europe', 'Category:2018 in Europe'], 'redirects': 1}\n",
      "   result: {'batchcomplete': '', 'query': {'pages': {'30010213': {'pageid': 30010213, 'ns': 14, 'title': 'Category:2018 in Europe'}}}}\n",
      "   query: {'action': 'query', 'titles': ['Business-to-business', 'Digital_economy'], 'redirects': 1}\n",
      "{'batchcomplete': '', 'query': {'normalized': [{'from': 'Digital_economy', 'to': 'Digital economy'}], 'pages': {'9613511': {'pageid': 9613511, 'ns': 0, 'title': 'Digital economy'}}}}\n",
      "1 missing redirects (2 titles,  1 found, 0 duplicates)\n",
      "--> new seed article: Internet_privacy\n",
      "\n",
      "title: Internet_privacy\n",
      "    query: {'action': 'query', 'prop': 'revisions', 'titles': 'Internet_privacy', 'rvprop': 'content', 'redirects': 1}\n",
      "   query: {'action': 'query', 'titles': ['privacy', 'Internet', 'New York Times', 'New York Times', 'data privacy', 'Personally identifiable information', 'Scientific American', 'Bruce Schneier', 'surveillance', \"File:Screengrab of 'Disconnect', (an internet-browser addon), visualizing the many trackers on the website 'abovetopsecret' (on 141127)-cropped.png\", 'digital privacy', 'Roe v. Wade', 'Bill Clinton', 'anonymity', 'Federal Trade Commission', 'identity theft', 'privacy policies', 'Facebook', 'Twitter', 'social media', 'Software bug', 'Lane v. Facebook, Inc.', 'HTTP cookie', 'HTTP cookie', 'State (computer science)', 'Google Analytics', 'Google Analytics', 'computer forensics', 'zombie cookies', 'web profiling', 'cross-site scripting', 'Mozilla Firefox', 'Opera (web browser)', 'Uniform Resource Locator', 'market analysis', 'Honeypot (computing)', 'HTTP cookie', 'Local Shared Object', 'Adobe Flash Player', 'Internet security', 'spyware', 'malware', 'Evercookie', 'Samy Kamkar', 'zombie cookie', 'Evercookie', 'Device fingerprinting', 'Canvas fingerprinting', 'Wikimania', 'digital cameras'], 'redirects': 1}\n",
      "   result: {'batchcomplete': '', 'query': {'normalized': [{'from': 'digital cameras', 'to': 'Digital cameras'}], 'redirects': [{'from': 'Digital cameras', 'to': 'Digital camera'}], 'pages': {'52797': {'pageid': 52797, 'ns': 0, 'title': 'Digital camera'}}}}\n",
      "   query: {'action': 'query', 'titles': ['street photography', 'social documentary photography', 'Mug shot publishing industry', 'candid photography', 'free speech', 'Harvard Law Review', 'iPhone', 'latitude', 'longitude', 'metadata', 'Google Street View', 'Street View', 'Data retention', 'Startpage.com', 'Disconnect Mobile', 'Scroogle', 'DuckDuckGo', 'Fireball (Search Engine)', 'Bing (search engine)', 'MetaGer', 'Ixquick', 'Yacy', 'Search Encrypt (Search Engine)', 'Web search engine', 'filter bubble', 'encryption', 'Tor (anonymity network)', 'Web 2.0', 'social networking', 'Facebook', 'Instagram', 'MySpace', 'Instagram', 'Snapchat', 'Internet service provider', 'World Wide Web', 'https', 'Anonymizer', 'I2P', 'Tor (anonymity network)', 'Bitmessage', 'Cryptocat', 'Council of Europe', 'Data Privacy Day', 'Peter Fleischer', 'Jane Horvath', 'Shuman Ghosemajumder', 'Google Blog', 'T-Mobile USA', 'web browsing'], 'redirects': 1}\n",
      "   result: {'batchcomplete': '', 'query': {'normalized': [{'from': 'web browsing', 'to': 'Web browsing'}], 'redirects': [{'from': 'Web browsing', 'to': 'Web navigation'}], 'pages': {'30510498': {'pageid': 30510498, 'ns': 0, 'title': 'Web navigation'}}}}\n",
      "   query: {'action': 'query', 'titles': ['Verizon Wireless', 'Virgin Mobile', 'text messages', 'AT&T Mobility', 'HTML5', 'Hypertext Markup Language', 'web storage', 'Adobe Flash Player', 'W3C Geolocation API', 'World Wide Web Consortium', 'Content Security Policy', 'cross-site scripting', 'Big Data', 'exabytes', 'Facebook', 'Google', 'Apple Inc.', 'Spotify', 'GPS', 'Malware', 'Spyware', 'web bug', 'Phishing', 'Pharming', 'Social engineering (computer security)', 'Password strength', 'WebRTC', 'Virtual private network', 'IP address', 'Firefox', 'Google Chrome', 'Inc. (magazine)', 'Wickr', 'Inc. (magazine)', 'Nicklas Lundblad', 'Personal identification number', 'Web 2.0', 'RAND Corporation', 'General Data Protection Regulation', \"Censorship in the People's Republic of China\", 'Mainland China', 'Communist Party of China', 'Tor (anonymity network)', 'Data Act', 'Jeff Flake', 'Republican party of the United States', 'Lobbying in the United States', 'Internet service provider', 'Presidency of Barack Obama', 'Jeff Flake'], 'redirects': 1}\n",
      "   result: {'batchcomplete': '', 'query': {'pages': {'407926': {'pageid': 407926, 'ns': 0, 'title': 'Jeff Flake'}}}}\n",
      "   query: {'action': 'query', 'titles': ['Marsha Blackburn', 'user data', 'civil liberties', 'Home Office', 'Magic Lantern (software)', 'Trojan horse (computing)', 'Anonymity', 'Anonymous blogging', 'Anonymous P2P', 'Anonymous post', 'Anonymous remailer', 'Anonymous web browsing', 'DuckDuckGo', 'Index of Articles Relating to Terms of Service and Privacy Policies', 'Internet censorship', 'Internet censorship circumvention', 'Internet vigilantism', 'Privacy-enhancing technologies', 'Freenet', 'Friend-to-friend', 'GNUnet', 'Metadata Removal Tool', 'Privacy software', 'PRISM (surveillance program)', 'Privacy law', 'Right to be forgotten', 'Privacy in Australian law', 'Privacy Act 1988', 'Canadian privacy law', 'Privacy Act (Canada)', 'Personal Information Protection and Electronic Documents Act', 'Data Protection Directive', 'ePrivacy Regulation (European Union)', 'Privacy in English law', 'Data Protection Act 1998', 'Data protection (privacy) laws in Russia', 'Privacy laws of the United States', 'Bank secrecy', 'Communications Assistance for Law Enforcement Act', 'Privacy Act of 1974', 'Surveillance', 'Computer and network surveillance', 'Mass surveillance', '2013 mass surveillance disclosures', 'Mass surveillance in the United Kingdom', 'Mass surveillance in the United States', 'Unauthorized access in online social networks', 'Category:Internet privacy', 'Category:Data laws', 'Category:Terms of service'], 'redirects': 1}\n"
     ]
    },
    {
     "name": "stdout",
     "output_type": "stream",
     "text": [
      "   result: {'batchcomplete': '', 'query': {'pages': {'54109227': {'pageid': 54109227, 'ns': 14, 'title': 'Category:Terms of service'}}}}\n",
      "   query: {'action': 'query', 'titles': ['Digital_camera', 'Web_navigation', 'Jeff_Flake'], 'redirects': 1}\n",
      "{'batchcomplete': '', 'query': {'normalized': [{'from': 'Jeff_Flake', 'to': 'Jeff Flake'}], 'pages': {'407926': {'pageid': 407926, 'ns': 0, 'title': 'Jeff Flake'}}}}\n",
      "2 missing redirects (3 titles,  1 found, 0 duplicates)\n",
      "\n",
      "\n",
      " outlink 1 of: 4\n",
      "\n",
      "\n",
      "title: Streisand_effect\n",
      "    query: {'action': 'query', 'prop': 'revisions', 'titles': 'Streisand_effect', 'rvprop': 'content', 'redirects': 1}\n",
      "   query: {'action': 'query', 'titles': ['Malibu, California', 'unintended consequences', 'Internet', 'Reactance (psychology)', 'Barbra Streisand', 'Malibu, California', 'cease and desist', 'illegal number', 'Mirror website', 'File sharing', 'London Free Press', 'Red Herring (magazine)', 'unintended consequences', 'Mike Masnick', 'Techdirt', 'National Public Radio', 'All Things Considered', 'Barbra Streisand', 'California Coastal Records Project', 'California', 'coastal erosion', 'California Coastal Records Project', 'The Smoking Gun', 'San Jose Mercury News', 'Pierre-sur-Haute military radio station', 'Tunisia', 'YouTube', 'Dailymotion', 'Tunisia', 'Zine El Abidine Ben Ali', 'Google Earth', 'The Economist', 'Direction générale de la sécurité intérieure', 'Pierre-sur-Haute military radio station', ':fr:Wikipédia:Bulletin des administrateurs', 'French Wikipedia', 'Theodore Katsanevas', 'Greek Wikipedia', \"The President's Keepers\", 'AACS encryption key controversy', 'Digg', 'YouTube', 'Forbes', 'Trafigura', 'Super injunction', 'The Guardian', '2006 Ivory Coast toxic waste dump', 'parliamentary privilege', 'Paul Farrelly', 'Bill of Rights 1689'], 'redirects': 1}\n",
      "   result: {'batchcomplete': '', 'query': {'pages': {'38867': {'pageid': 38867, 'ns': 0, 'title': 'Bill of Rights 1689'}}}}\n",
      "   query: {'action': 'query', 'titles': ['The Spectator', 'Twitter', 'Stephen Fry', 'Boston', 'Hingham, Massachusetts', 'Yelp', 'Consumerist', 'Better Business Bureau', 'YouTube', 'Samsung Galaxy S4', 'Samsung', 'Settlement offer', 'Hudson, New York', 'New York Post', 'Yelp', 'Yelp', 'Church of Scientology', 'Tom Cruise', 'Scientology', 'Project Chanology', 'Internet Watch Foundation', 'Internet Watch Foundation and Wikipedia', 'English Wikipedia', 'Scorpions (band)', 'Virgin Killer', 'BBC News', 'Argyll and Bute Council', 'NeverSeconds', 'University of California, Davis', 'Linda P.B. Katehi', 'UC Davis pepper-spray incident', 'University of California', 'Janet Napolitano', 'administrative leave', 'Los Angeles Times', 'Premier League', 'Ryan Giggs', 'Twitter', 'Gag order', 'Big Brother (UK)', 'Imogen Thomas', 'Forbes', 'Jeremy Clarkson', 'PJS v News Group Newspapers', 'right to be forgotten', 'litigant', 'Banned in Boston', 'Blowback (intelligence)', 'Cobra effect', 'DSMA-Notice'], 'redirects': 1}\n",
      "   result: {'batchcomplete': '', 'query': {'pages': {'1548898': {'pageid': 1548898, 'ns': 0, 'title': 'DSMA-Notice'}}}}\n",
      "   query: {'action': 'query', 'titles': ['Hydra effect', 'List of eponymous laws', 'Massachusetts Bay Transportation Authority v. Anderson', 'Strategic lawsuit against public participation', 'Unintended consequences', 'BBC News', 'Category:2003 in California', 'Category:Adages', 'Category:Cultural depictions of Barbra Streisand', 'Category:Historical revisionism (negationism)', 'Category:Internet censorship in the United States', 'Category:Internet culture', 'Category:Privacy controversies and disputes', 'Category:Words coined in the 2000s'], 'redirects': 1}\n",
      "   result: {'batchcomplete': '', 'query': {'pages': {'22879945': {'pageid': 22879945, 'ns': 14, 'title': 'Category:Words coined in the 2000s'}}}}\n",
      "   query: {'action': 'query', 'titles': ['Bill_of_Rights_1689', 'DSMA-Notice'], 'redirects': 1}\n",
      "{'batchcomplete': '', 'query': {'pages': {'1548898': {'pageid': 1548898, 'ns': 0, 'title': 'DSMA-Notice'}}}}\n",
      "1 missing redirects (2 titles,  1 found, 0 duplicates)\n",
      "\n",
      "\n",
      " outlink 2 of: 4\n",
      "\n",
      "\n",
      "title: Internet_safety\n",
      "    query: {'action': 'query', 'prop': 'revisions', 'titles': 'Internet_safety', 'rvprop': 'content', 'redirects': 1}\n",
      "   query: {'action': 'query', 'titles': ['Information privacy', 'internet', 'computer crime', 'United Kingdom', 'Serious Organized Crime Agency', 'Microsoft', 'eBay', 'Personally identifiable information', 'identity theft', 'Phishing', 'Internet Fraud', 'Malware', 'spyware', 'Computer-mediated communication', 'Cyberbullying', 'Internet-initiated sex crimes against minors', 'chat room', 'internet forum', 'internet', 'shock sites', 'hate speech', 'pop-up ad', 'Sextortion', 'webcam', 'flirting', 'cybersex', 'Cybercrime', 'Social engineering (security)', 'Physical attractiveness', 'masturbation', 'Internet-initiated sex crimes against minors', 'National Crime Agency', 'United Kingdom', 'humiliation', 'Suicide', 'Accountability software', 'Content control software', 'Identity fraud', 'Internet crime', 'Internet fraud', 'Internet security', 'Website reputation ratings', 'AHTCC', 'Childnet', 'Incredible Internet', 'Sonia Livingstone', 'ThinkUKnow', 'Tween summit', 'Youth Internet Safety Survey', 'Category:Crime prevention'], 'redirects': 1}\n",
      "   result: {'batchcomplete': '', 'query': {'pages': {'3541636': {'pageid': 3541636, 'ns': 14, 'title': 'Category:Crime prevention'}}}}\n",
      "   query: {'action': 'query', 'titles': ['Category:Internet safety'], 'redirects': 1}\n",
      "   result: {'batchcomplete': '', 'query': {'pages': {'19571188': {'pageid': 19571188, 'ns': 14, 'title': 'Category:Internet safety'}}}}\n",
      "\n",
      "\n",
      " outlink 3 of: 4\n",
      "\n",
      "\n",
      "title: Jeff_Flake\n",
      "    query: {'action': 'query', 'prop': 'revisions', 'titles': 'Jeff_Flake', 'rvprop': 'content', 'redirects': 1}\n",
      "   query: {'action': 'query', 'titles': ['Arizona', 'Jon Kyl', 'Jon Kyl', 'Arizona', 'J. D. Hayworth', 'David Schweikert', 'Arizona', 'Matt Salmon', 'Rick Renzi', 'Snowflake, Arizona', 'Arizona', 'Republican Party (United States)', 'Jake Flake', 'Brigham Young University', 'Bachelor of Arts', 'Master of Arts', 'Seniority in the United States Senate', 'United States Senate', 'Arizona', 'United States Senate election in Arizona, 2012', 'Republican Party (United States)', 'United States House of Representatives', 'Gang of Eight (immigration)', 'President of the United States', 'Donald Trump', 'United States Senate election in Arizona, 2018', 'John McCain', 'Snowflake, Arizona', 'Mormon pioneer', 'William J. Flake', 'Bachelor of Arts', 'International relations', 'Master of Arts', 'Political Science (song)', 'Brigham Young University', 'Mormon missionary', 'The Church of Jesus Christ of Latter-day Saints', 'South Africa', 'Afrikaans', 'Namibia', 'Goldwater Institute', 'South Africa', 'apartheid', 'Matt Salmon', 'term limit', 'East Valley (Phoenix metropolitan area)', '2000 United States Census', 'pork barrel spending', 'United States general elections, 2006', 'Democratic Party (United States)'], 'redirects': 1}\n",
      "   result: {'batchcomplete': '', 'query': {'pages': {'5043544': {'pageid': 5043544, 'ns': 0, 'title': 'Democratic Party (United States)'}}}}\n",
      "   query: {'action': 'query', 'titles': ['Libertarian Party (United States)', 'Liberty Caucus', 'Libertarianism', 'Republican Study Committee', 'United States House Committee on Appropriations', 'United States House Appropriations Subcommittee on Labor, Health and Human Services, Education, and Related Agencies', 'United States House Appropriations Subcommittee on Military Construction, Veterans Affairs, and Related Agencies', 'United States House Appropriations Subcommittee on Interior, Environment, and Related Agencies', 'Assistant party leaders of the United States Senate', 'Jon Kyl', 'United States Senate election in Arizona, 2012', 'Surgeon General of the United States', 'Richard Carmona', 'Public Policy Polling', 'Wall Street Journal', 'Casa Grande Dispatch', 'United States Chamber of Commerce', 'Senate Conservatives Fund', 'Club for Growth', 'Richard Carmona', 'Mitt Romney', 'File:Jeff Flake (21188573650).jpg', 'Jon Kyl', 'Martin Heinrich', 'New Mexico', 'Discovery Channel', 'Micronesia', 'National Press Club (United States)', 'Nevada', 'Kentucky', 'Congressional Baseball Game', '2017 Congressional baseball shooting', 'Gabrielle Giffords', 'File:Jeff Flake (40435846494).jpg', 'United States Senate election in Arizona, 2018', 'McKay Coppins', 'Chris Cillizza', 'The Atlantic', 'CNN', 'Joe Manchin', 'Don Blankenship', 'Patrick Morrisey', 'United States Senate Committee on Energy and Natural Resources', 'United States Senate Energy Subcommittee on Energy', 'United States Senate Energy Subcommittee on Public Lands, Forests and Mining', 'United States Senate Energy Subcommittee on Water and Power', 'United States Senate Committee on Foreign Relations', 'United States Senate Foreign Relations Subcommittee on African Affairs', 'United States Senate Foreign Relations Subcommittee on East Asian and Pacific Affairs', 'United States Senate Foreign Relations Subcommittee on European Affairs'], 'redirects': 1}\n"
     ]
    },
    {
     "name": "stdout",
     "output_type": "stream",
     "text": [
      "   result: {'batchcomplete': '', 'query': {'redirects': [{'from': 'United States Senate Foreign Relations Subcommittee on European Affairs', 'to': 'United States Senate Foreign Relations Subcommittee on Europe and Regional Security Cooperation'}], 'pages': {'7929507': {'pageid': 7929507, 'ns': 0, 'title': 'United States Senate Foreign Relations Subcommittee on Europe and Regional Security Cooperation'}}}}\n",
      "   query: {'action': 'query', 'titles': ['United States Senate Foreign Relations Subcommittee on International Development and Foreign Assistance, Economic Affairs and International Environmental Protection, and Peace Corps', 'United States Senate Committee on the Judiciary', 'United States Senate Judiciary Subcommittee on Antitrust, Competition Policy and Consumer Rights', 'United States Senate Judiciary Subcommittee on Immigration, Refugees and Border Security', 'United States Senate Judiciary Subcommittee on Terrorism and Homeland Security', 'United States Senate Special Committee on Aging', 'Conservatism in the United States', 'National Journal', 'The New York Times', 'American Conservative Union', 'Americans for Prosperity', 'American Civil Liberties Union', 'File:Jeff Flake, official portrait, 113th Congress.jpg', 'Fiscal conservatism', 'Washington Post', 'Robert Novak', 'American Conservative Union', 'Pork barrel', 'New York Times', 'Citizens Against Government Waste', 'Troubled Asset Relief Program', 'The American Conservative', 'Earmark (politics)', 'National Journal', 'Earmark (politics)', 'José Enrique Serrano', 'cannoli', 'New York Times', 'Mike Lee (American politician)', 'Pat Toomey', 'Rand Paul', 'David Perdue', 'Ben Sasse', 'Bernie Sanders', 'Hurricane Katrina', 'Donald Trump', 'Donald Trump and Billy Bush recording', 'McKay Coppins', 'Chris Cillizza', 'CNN', 'John McCain', 'Hualapai', 'Arizona Republic', 'Safe Drinking Water Act', 'Barack Obama', 'File:Jeff Flake by Gage Skidmore 3.jpg', 'Iraq Resolution', 'Iraq War', 'Saddam Hussein', 'Iraq War'], 'redirects': 1}\n",
      "   result: {'batchcomplete': '', 'query': {'pages': {'5043324': {'pageid': 5043324, 'ns': 0, 'title': 'Iraq War'}}}}\n",
      "   query: {'action': 'query', 'titles': ['Arizona Republic', 'David Petraeus', 'Dana Milbank', 'Washington Post', 'United States embargo against Cuba', 'Reason magazine', 'Steven Clemons', 'Talking Points Memo', 'United States-Cuba relations', 'Chris Van Hollen', 'Patrick Leahy', 'Alan Gross', 'Raúl Castro', 'United States embargo against Cuba', 'Colorado theater shooting', 'Lindsey Graham', 'Mark Begich', 'Mark Pryor', 'insanity defense', 'United States House Committee on the Judiciary', 'John Boehner', 'Stopping Trained in America PhDs From Leaving the Economy Act', 'DREAM Act', 'Gang of Eight (immigration)', 'Border Security, Economic Opportunity, and Immigration Modernization Act of 2013', 'Jeb Bush', 'Jeb Bush', 'Donald Trump', 'Executive Order 13769', 'John McCain', 'U.S. Department of Defense', 'Major League Baseball', 'National Hockey League', 'Major League Soccer', 'Roy Moore', 'United States Senate special election in Alabama, 2017', 'Muslim', 'Washington Post', 'Doug Jones (politician)', 'United States Senate special election in Alabama, 2017', 'Esquire (magazine)', 'Modern liberalism in the United States', 'Libertarianism', 'USA Patriot Act', 'United States Foreign Intelligence Surveillance Court', 'United States Senate', 'National Security Letter', 'gag order', 'Inspector General', 'National Security Letter'], 'redirects': 1}\n",
      "   result: {'batchcomplete': '', 'query': {'redirects': [{'from': 'National Security Letter', 'to': 'National security letter'}], 'pages': {'3922180': {'pageid': 3922180, 'ns': 0, 'title': 'National security letter'}}}}\n",
      "   query: {'action': 'query', 'titles': ['Barack Obama', 'Internet service provider', 'Lobbying in the United States', 'Internet service provider', 'Internet privacy', 'pro-life', 'rape', 'incest', \"Don't Ask, Don't Tell Repeal Act of 2010\", \"don't ask, don't tell\", 'openly gay', 'Metro Weekly', 'New York Times', 'Human Rights Campaign', '115th United States Congress', '114th United States Congress', 'same-sex marriage', 'Federal Marriage Amendment', 'Affordable Care Act', 'Employment Non-Discrimination Act', 'gender identity', 'STATES Act', '115th United States Congress', 'List of United States Senators from Massachusetts', 'Elizabeth Warren', 'List of United States Senators from Colorado', 'Cory Gardner', 'Controlled Substances Act', 'File:Flake Condemns Politicized Senate Process, Urges Human Decency.webm', 'Merrick Garland', 'President of the United States', 'Barack Obama', 'Merrick Garland Supreme Court nomination', 'Supreme Court of the United States', 'Antonin Scalia', 'Hillary Clinton', 'United States presidential election, 2016', 'lame-duck session', 'cloture', 'Neil Gorsuch', 'Democratic Party (United States)', 'nuclear option', 'filibuster', 'Brett Kavanaugh', 'Christine Blasey Ford', 'Ana Maria Archila', 'Mark Judge (writer)', 'New Hampshire', 'Donald Trump', 'Mesa, Arizona'], 'redirects': 1}\n",
      "   result: {'batchcomplete': '', 'query': {'pages': {'106653': {'pageid': 106653, 'ns': 0, 'title': 'Mesa, Arizona'}}}}\n",
      "   query: {'action': 'query', 'titles': ['Church of Jesus Christ of Latter-day Saints', 'Zimbabwe', 'South Africa', 'Jake Flake', 'Arizona State Legislature', 'Speaker (politics)', 'Arizona House of Representatives', 'The Arizona Republic', 'Marshall Islands', 'survivalist', 'The Washington Post', 'The Washington Post', 'U.S. House election, 2000', 'Libertarian Party (United States)', 'U.S. House election, 2002', 'Libertarian Party (United States)', 'U.S. House election, 2004', 'Libertarian Party (United States)', 'U.S. House election, 2006', 'Libertarian Party (United States)', 'U.S. House election, 2008', 'Libertarian Party (United States)', 'U.S. House election, 2010', 'Libertarian Party (United States)', 'Green Party (United States)', 'United States Senate election in Arizona, 2012', 'United States Senate election in Arizona, 2012', 'Richard Carmona', 'Marc J. Victor', 'Libertarian Party (United States)', '2017 Broadband Consumer Privacy Proposal repeal', 'Matt Salmon', 'Rick Renzi', 'J. D. Hayworth', 'David Schweikert', 'Jon Kyl', 'Republican Party (United States)', 'United States Senator', 'Arizona', 'Classes of United States Senators', 'United States Senate election in Arizona, 2012', 'Martha McSally', 'Jon Kyl', 'John McCain', 'Jon Kyl', 'Tammy Baldwin', 'Seniority in the United States Senate', 'Joe Donnelly', 'United States Congress', 'Arizona'], 'redirects': 1}\n",
      "   result: {'batchcomplete': '', 'query': {'pages': {'21883824': {'pageid': 21883824, 'ns': 0, 'title': 'Arizona'}}}}\n",
      "   query: {'action': 'query', 'titles': ['Category:1962 births', 'Category:20th-century Mormon missionaries', 'Category:21st-century American politicians', 'Category:American Mormon missionaries in South Africa', 'Category:Arizona Republicans', 'Category:Brigham Young University alumni', 'Category:Latter Day Saints from Arizona', 'Category:Living people', 'Category:Members of the United States House of Representatives from Arizona', 'Category:People from Snowflake, Arizona', 'Category:Politicians from Mesa, Arizona', 'Category:Republican Party members of the United States House of Representatives', 'Category:Republican Party United States Senators', 'Category:United States Senators from Arizona'], 'redirects': 1}\n",
      "   result: {'batchcomplete': '', 'query': {'pages': {'2845461': {'pageid': 2845461, 'ns': 14, 'title': 'Category:United States Senators from Arizona'}}}}\n",
      "   query: {'action': 'query', 'titles': ['Democratic_Party_(United_States)', 'United_States_Senate_Foreign_Relations_Subcommittee_on_Europe_and_Regional_Security_Cooperation', 'Iraq_War', 'National_security_letter', 'Mesa,_Arizona', 'Arizona'], 'redirects': 1}\n",
      "{'batchcomplete': '', 'query': {'pages': {'21883824': {'pageid': 21883824, 'ns': 0, 'title': 'Arizona'}}}}\n",
      "5 missing redirects (6 titles,  1 found, 0 duplicates)\n",
      "\n",
      "\n",
      " outlink 4 of: 4\n",
      "\n",
      "\n",
      "title: Digital_economy\n",
      "    query: {'action': 'query', 'prop': 'revisions', 'titles': 'Digital_economy', 'rvprop': 'content', 'redirects': 1}\n",
      "   query: {'action': 'query', 'titles': ['internet', 'World Wide Web', 'New Economy', 'Don Tapscott', 'Thomas Mesenbourg', 'social media', 'Nicholas Negroponte', 'Oxford Economics', 'Deloitte Digital', 'Telstra', 'The Boston Consulting Group', 'bcg.perspectives', 'Deloitte', 'Econsultancy', 'National Broadband Network', 'Bitcoin', 'Digitization economics', 'Electronic business', 'Electronic commerce', 'Indigo Era (economics)', 'Industry 4.0', 'Information economy', 'information society', 'Knowledge economy', 'Knowledge management', 'Knowledge market', 'National Broadband Network', 'Network economy', 'Virtual economy', 'Monthly Review', 'Category:Cashless society', 'Category:Economic systems', 'Category:Information economy'], 'redirects': 1}\n"
     ]
    },
    {
     "name": "stdout",
     "output_type": "stream",
     "text": [
      "   result: {'batchcomplete': '', 'query': {'pages': {'26952279': {'pageid': 26952279, 'ns': 14, 'title': 'Category:Information economy'}}}}\n"
     ]
    }
   ],
   "source": [
    "extract_network(seed_file)"
   ]
  },
  {
   "cell_type": "code",
   "execution_count": 32,
   "metadata": {},
   "outputs": [
    {
     "name": "stdout",
     "output_type": "stream",
     "text": [
      "links  results\r\n"
     ]
    }
   ],
   "source": [
    "! ls data"
   ]
  },
  {
   "cell_type": "code",
   "execution_count": null,
   "metadata": {},
   "outputs": [],
   "source": []
  }
 ],
 "metadata": {
  "kernelspec": {
   "display_name": "Python 3",
   "language": "python",
   "name": "python3"
  },
  "language_info": {
   "codemirror_mode": {
    "name": "ipython",
    "version": 3
   },
   "file_extension": ".py",
   "mimetype": "text/x-python",
   "name": "python",
   "nbconvert_exporter": "python",
   "pygments_lexer": "ipython3",
   "version": "3.7.0"
  }
 },
 "nbformat": 4,
 "nbformat_minor": 2
}
